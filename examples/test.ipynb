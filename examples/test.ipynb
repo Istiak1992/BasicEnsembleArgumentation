{
 "cells": [
  {
   "cell_type": "code",
   "execution_count": 1,
   "metadata": {},
   "outputs": [],
   "source": [
    "import pandas as pd\n",
    "import numpy as np\n",
    "import seaborn as sns\n",
    "import project_path\n",
    "import os\n",
    "import matplotlib.pyplot as plt\n",
    "from sklearn.metrics import classification_report\n",
    "from sklearn.model_selection import train_test_split\n",
    "from sklearn.tree import DecisionTreeClassifier\n",
    "from sklearn.tree import DecisionTreeRegressor\n",
    "from sklearn.metrics import accuracy_score\n",
    "from EnsembleArgumentationBasic import ensembleArgument"
   ]
  },
  {
   "cell_type": "code",
   "execution_count": null,
   "metadata": {},
   "outputs": [],
   "source": [
    "##Upload a data set that contains numerical data.\n",
    "dataset =pd.read_csv(os.path.join('data','iris.csv'))"
   ]
  },
  {
   "cell_type": "code",
   "execution_count": null,
   "metadata": {},
   "outputs": [],
   "source": [
    "#Print the uploaded data set.\n",
    "dataset.head()"
   ]
  },
  {
   "cell_type": "code",
   "execution_count": 3,
   "metadata": {},
   "outputs": [],
   "source": [
    "#Define the independent and dependant variables where x is the independent variable and y is the dependant variable.\n",
    "#y always depend on x. class_label is the last column of the data set that contains class labels.\n",
    "x = dataset.drop('classlabel', axis=1)\n",
    "y = dataset['classlabel']"
   ]
  },
  {
   "cell_type": "code",
   "execution_count": null,
   "metadata": {},
   "outputs": [],
   "source": [
    "#Call the two functions namely Classifiers and Regressors.\n",
    "#Instantiate the two functions in two different variables such as c1 and c2.\n",
    "c1 = ensembleArgument.Classifiers(x,y)\n",
    "c2 = ensembleArgument.Regressors(x,y)"
   ]
  },
  {
   "cell_type": "code",
   "execution_count": 4,
   "metadata": {},
   "outputs": [],
   "source": [
    "#Call the Argumentation function with the required parameters e.g.c1, c2.\n",
    "#Instantiate the function in a variable e.g. c3.\n",
    "c3 = ensembleArgument.Argumentation(c1,c2)"
   ]
  },
  {
   "cell_type": "code",
   "execution_count": 5,
   "metadata": {},
   "outputs": [],
   "source": [
    "#Call the function PlotGraph with the required parameters e.g. c1, c2, c3.\n",
    "#This function represents the graphical views of different outcome sets (Classifiers, Regressors, and PAF).\n",
    "ensembleArgument.PlotGraph(c1,c2,c3)"
   ]
  },
  {
   "cell_type": "code",
   "execution_count": null,
   "metadata": {},
   "outputs": [],
   "source": [
    "plt.show()"
   ]
  }
 ],
 "metadata": {
  "kernelspec": {
   "display_name": "Python 3",
   "language": "python",
   "name": "python3"
  },
  "language_info": {
   "codemirror_mode": {
    "name": "ipython",
    "version": 3
   },
   "file_extension": ".py",
   "mimetype": "text/x-python",
   "name": "python",
   "nbconvert_exporter": "python",
   "pygments_lexer": "ipython3",
   "version": "3.7.4"
  }
 },
 "nbformat": 4,
 "nbformat_minor": 2
}
